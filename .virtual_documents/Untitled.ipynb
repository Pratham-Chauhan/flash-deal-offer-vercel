import pdb
import os.path
import requests
import json

import pandas as pd
from datetime import datetime
from time import sleep, time

import matplotlib.pyplot as plt
import matplotlib.dates as mdates
import numpy as np


df = pd.read_csv('Flash_deal_product_list.csv')


df.head(1).to_json()


cu = df[df['Start_time'] == df['Start_time'].iloc[-1]]['Item']


len(set(cu.to_list()))


from datetime import datetime
end_time = df['End_time'].iloc[-1]
end_time


int(datetime.utcnow().timestamp())



endt = datetime.fromtimestamp(end_time)
current_time = datetime.utcnow()

(endt - current_time)


def per_kg(x):
    weight, unit = x.split()
    if unit in ['pcs', 'kg','pc', 'Unit','L']:
        return float(weight)
    else:
        return float(weight)/1000
    
df['Quantity per kg']  = df['Quantity'].apply(per_kg)


# df['Quantity'] 
df = df.drop(['Quantity1', 'unit'], axis = 1)


# df = df.drop_duplicates(subset=['Item','Price'])
df.to_csv('./Flash_deal_product_list.csv')



df.Price,df['Quantity per kg']


df['Price per kg'] = df.Price /df['Quantity per kg']
df['Normal Price per kg'] = df['Normal Price'] /df['Quantity per kg']


df.to_csv('./Flash_deal_product_list.csv')


current_deal = df['Start_time'].iloc[-1]
df[df.Start_time == current_deal]


df.Start_time_String[len(df)-1]


print(len(df))

df['Discount'] = (df['Diff.']/df['Normal Price'])*100
df['Discount'] = df.Discount.round(1)


df.sort_values('Discount', ascending=False)


df2 = df.groupby(['ID', 'Item']).count()


df2.sort_values('Price', ascending=False)



df3 = df[df['Item'] == 'Onion (Pyaaz)'] # banana id
df3


import time
current_time = int(time.time())
current_time = datetime.fromtimestamp(current_time)

current_time


df3['Item'].iloc[0]



from datetime import datetime
df3['Start_time_String'] = df3['Start_time'].apply(datetime.fromtimestamp)


df3.Start_time_String


available_styles = plt.style.available
available_styles


import matplotlib.pyplot as plt
import matplotlib.dates as mdates
import numpy as np

plt.style.use('bmh')

fig = plt.figure(figsize=(17,8))
# Format the date ticks on the x-axis
date_format = mdates.DateFormatter('%I:%M %p\n %b-%d ')  # Customize the format as per your preference
plt.gca().xaxis.set_major_formatter(date_format)
plt.xticks(rotation=25)

plt.grid(True, linestyle='--', linewidth=0.5)


# Customize the tick labels with bigger text
plt.tick_params(axis='both', labelsize=20)  # Set the font size to 14 for both x and y axis

x = df3['Start_time_String'].to_numpy()
x = np.append(x, np.datetime64(current_time))

y = df3['Price'].to_numpy()
y = np.append(y, y[-1])

y2 = df3['Normal Price'].to_numpy()
y2 = np.append(y2, y2[-1])

print(x,y)
plt.step(x, y2, 'o-', where='post')
plt.step(x, y, 'o-', where='post')


x[0], 


current_time





from faunadb import query as q
from faunadb.objects import Ref
from faunadb.client import FaunaClient
secret_app = "fnacapi_omd2ZXJzaW9uAWdwYXlsb2FkWFiiYmlkcjM3NjE0Mzc2MDIyOTEzOTAyNWZzZWNyZXR4OGlnRWdTNndPbytpaGNyaHNobjV2MFpkNzFiSFF4d3k0bnNGZVhOZ0h5N2xiOVVnajJqZjUrdz09"

client = FaunaClient(secret="fnAFOFgjObAAzYoh5AAEP5mhb691l1CP2oImU_P7",
                    domain='db.fauna.com')


documents = []
for index, row in df.iterrows():
    document = { "data": row.to_dict() }
    
    documents.append(q.create(q.collection("Customer"), document))


# Execute the FQL transaction to insert data into FaunaDB
client.query(documents)














q.paginate( q.databases())
q.get(q.ref(q.collection('Customer'), '375947605483454672')))
Get(Ref(Collection("Spaceships"), "266354515987399186"))


client.query(q.get(q.ref(q.collection('Customer'), '375947605483454672')))



